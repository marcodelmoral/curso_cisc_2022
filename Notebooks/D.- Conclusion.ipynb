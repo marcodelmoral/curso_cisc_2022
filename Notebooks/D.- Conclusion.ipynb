{
 "cells": [
  {
   "cell_type": "code",
   "execution_count": 1,
   "metadata": {},
   "outputs": [],
   "source": [
    "# from google.colab import drive\n",
    "# drive.mount('/content/drive')"
   ]
  },
  {
   "cell_type": "code",
   "execution_count": 2,
   "metadata": {},
   "outputs": [],
   "source": [
    "# !pip install pycm\n",
    "# !pip install livelossplot"
   ]
  },
  {
   "cell_type": "code",
   "execution_count": 3,
   "metadata": {},
   "outputs": [
    {
     "name": "stdout",
     "output_type": "stream",
     "text": [
      "C:\\Users\\marco\\Documents\\Trabajo\\Academia\\curso_cisc_2022\n"
     ]
    }
   ],
   "source": [
    "%matplotlib inline\n",
    "import pathlib\n",
    "import pandas as pd\n",
    "import numpy as np\n",
    "import os\n",
    "\n",
    "import tensorflow as tf\n",
    "import tensorflow_addons as tfa\n",
    "from sklearn.model_selection import train_test_split\n",
    "from sklearn.model_selection import StratifiedKFold\n",
    "import matplotlib.pyplot as plt\n",
    "\n",
    "from livelossplot import PlotLossesKerasTF\n",
    "from pycm import ConfusionMatrix\n",
    "\n",
    "os.environ[\"CUDA_VISIBLE_DEVICES\"]=\"1\"\n",
    "\n",
    "SEED = 199510\n",
    "np.random.seed(SEED)\n",
    "tf.random.set_seed(SEED)\n",
    "\n",
    "ROOT_DIR = pathlib.Path().resolve().parent\n",
    "\n",
    "# Descomentar para correr en Google Colab usando Drive\n",
    "# ROOT_DIR = pathlib.Path(\"drive/MyDrive/curso_cisc_2022\")\n",
    "\n",
    "DATA_DIR = ROOT_DIR / \"Data\" / \"smear2005\"\n",
    "print(ROOT_DIR)\n",
    "\n",
    "import utils"
   ]
  },
  {
   "cell_type": "code",
   "execution_count": 4,
   "metadata": {},
   "outputs": [],
   "source": [
    "dataset = pd.read_csv(f\"{DATA_DIR}/dataset.csv\")\n",
    "CLASS_COLUMN = \"Class_cat_7\""
   ]
  },
  {
   "cell_type": "code",
   "execution_count": 5,
   "metadata": {},
   "outputs": [
    {
     "name": "stdout",
     "output_type": "stream",
     "text": [
      "Número de clases: 7\n",
      "Clases: ['normal_superficiel' 'normal_intermediate' 'normal_columnar'\n",
      " 'light_dysplastic' 'moderate_dysplastic' 'severe_dysplastic'\n",
      " 'carcinoma_in_situ']\n"
     ]
    }
   ],
   "source": [
    "class_names = dataset[CLASS_COLUMN].unique()\n",
    "num_classes = len(class_names)\n",
    "print(f\"Número de clases: {num_classes}\")\n",
    "print(f\"Clases: {class_names}\")"
   ]
  },
  {
   "cell_type": "code",
   "execution_count": 6,
   "metadata": {},
   "outputs": [],
   "source": [
    "IMG_HEIGHT = 100\n",
    "IMG_WIDTH = 100\n",
    "IMG_SHAPE = (IMG_HEIGHT, IMG_WIDTH, 3)\n",
    "BATCH_SIZE = 256\n",
    "EPOCHS = 100\n",
    "LEARNING_RATE = 0.001\n",
    "OPT = tf.keras.optimizers.Adam(learning_rate=LEARNING_RATE)\n",
    "METRICS = [\n",
    "    \"accuracy\", \n",
    "    tf.keras.metrics.Precision(name=\"precision\"), \n",
    "    tf.keras.metrics.Recall(name=\"recall\"),\n",
    "    tfa.metrics.F1Score()\n",
    "    ]\n",
    "LOSS = \"binary_crossentropy\" if num_classes == 2 else \"categorical_crossentropy\"\n",
    "OUTPUT_NEURONS = 1 if num_classes == 2 else num_classes\n",
    "OUTPUT_ACTIVATION = \"sigmoid\" if num_classes == 2 else \"softmax\"\n",
    "SPLIT = 0.2"
   ]
  },
  {
   "cell_type": "code",
   "execution_count": 58,
   "metadata": {},
   "outputs": [
    {
     "name": "stdout",
     "output_type": "stream",
     "text": [
      "Found 184 validated image filenames belonging to 7 classes.\n"
     ]
    }
   ],
   "source": [
    "train, test = train_test_split(dataset, test_size=SPLIT, random_state=SEED, stratify=dataset[CLASS_COLUMN])\n",
    "train = train.reset_index(drop=True)\n",
    "\n",
    "test_datagen =tf.keras.preprocessing.image.ImageDataGenerator()\n",
    "\n",
    "test_generator = test_datagen.flow_from_dataframe(\n",
    "                                        test,\n",
    "                                        None,\n",
    "                                        x_col='filename',\n",
    "                                        target_size=(IMG_WIDTH, IMG_HEIGHT),\n",
    "                                        y_col=CLASS_COLUMN,\n",
    "                                        batch_size=BATCH_SIZE,\n",
    "                                        seed=SEED,\n",
    "                                        class_mode='binary' if num_classes == 2 else 'categorical'\n",
    "                                        )"
   ]
  },
  {
   "cell_type": "code",
   "execution_count": 8,
   "metadata": {},
   "outputs": [],
   "source": [
    "data_augmentation = tf.keras.Sequential(\n",
    "  [\n",
    "    tf.keras.layers.RandomFlip(input_shape=IMG_SHAPE),\n",
    "    tf.keras.layers.RandomRotation(0.3, fill_mode=\"constant\"),\n",
    "    tf.keras.layers.RandomZoom(0.2, fill_mode=\"constant\"),\n",
    "  ]\n",
    ")"
   ]
  },
  {
   "cell_type": "code",
   "execution_count": 9,
   "metadata": {},
   "outputs": [],
   "source": [
    "def create_model():\n",
    "    base_model = tf.keras.applications.EfficientNetB0(weights='imagenet', include_top=False)\n",
    "    preprocess_input = tf.keras.applications.efficientnet.preprocess_input\n",
    "    base_model.trainable = False\n",
    "    model = tf.keras.Sequential([\n",
    "    tf.keras.layers.Lambda(preprocess_input, input_shape=IMG_SHAPE),\n",
    "    data_augmentation,\n",
    "    base_model,\n",
    "    tf.keras.layers.GlobalAveragePooling2D(),\n",
    "    tf.keras.layers.Dense(OUTPUT_NEURONS, activation=OUTPUT_ACTIVATION)\n",
    "    ])\n",
    "\n",
    "    model.compile(optimizer=OPT, loss=LOSS, metrics=METRICS)\n",
    "    return model"
   ]
  },
  {
   "cell_type": "code",
   "execution_count": 59,
   "metadata": {},
   "outputs": [
    {
     "name": "stdout",
     "output_type": "stream",
     "text": [
      "Iniciando Fold: 0\n",
      "Datos de entrenamiento: 586\n",
      "Datos de validacion: 147\n",
      "Dividiendo datos\n",
      "733\n"
     ]
    },
    {
     "ename": "IndexError",
     "evalue": "positional indexers are out-of-bounds",
     "output_type": "error",
     "traceback": [
      "\u001b[1;31m---------------------------------------------------------------------------\u001b[0m",
      "\u001b[1;31mIndexError\u001b[0m                                Traceback (most recent call last)",
      "File \u001b[1;32mc:\\Anaconda3\\envs\\tf-gpu\\lib\\site-packages\\pandas\\core\\indexing.py:1482\u001b[0m, in \u001b[0;36m_iLocIndexer._get_list_axis\u001b[1;34m(self, key, axis)\u001b[0m\n\u001b[0;32m   <a href='file:///c%3A/Anaconda3/envs/tf-gpu/lib/site-packages/pandas/core/indexing.py?line=1480'>1481</a>\u001b[0m \u001b[39mtry\u001b[39;00m:\n\u001b[1;32m-> <a href='file:///c%3A/Anaconda3/envs/tf-gpu/lib/site-packages/pandas/core/indexing.py?line=1481'>1482</a>\u001b[0m     \u001b[39mreturn\u001b[39;00m \u001b[39mself\u001b[39;49m\u001b[39m.\u001b[39;49mobj\u001b[39m.\u001b[39;49m_take_with_is_copy(key, axis\u001b[39m=\u001b[39;49maxis)\n\u001b[0;32m   <a href='file:///c%3A/Anaconda3/envs/tf-gpu/lib/site-packages/pandas/core/indexing.py?line=1482'>1483</a>\u001b[0m \u001b[39mexcept\u001b[39;00m \u001b[39mIndexError\u001b[39;00m \u001b[39mas\u001b[39;00m err:\n\u001b[0;32m   <a href='file:///c%3A/Anaconda3/envs/tf-gpu/lib/site-packages/pandas/core/indexing.py?line=1483'>1484</a>\u001b[0m     \u001b[39m# re-raise with different error message\u001b[39;00m\n",
      "File \u001b[1;32mc:\\Anaconda3\\envs\\tf-gpu\\lib\\site-packages\\pandas\\core\\generic.py:3716\u001b[0m, in \u001b[0;36mNDFrame._take_with_is_copy\u001b[1;34m(self, indices, axis)\u001b[0m\n\u001b[0;32m   <a href='file:///c%3A/Anaconda3/envs/tf-gpu/lib/site-packages/pandas/core/generic.py?line=3708'>3709</a>\u001b[0m \u001b[39m\"\"\"\u001b[39;00m\n\u001b[0;32m   <a href='file:///c%3A/Anaconda3/envs/tf-gpu/lib/site-packages/pandas/core/generic.py?line=3709'>3710</a>\u001b[0m \u001b[39mInternal version of the `take` method that sets the `_is_copy`\u001b[39;00m\n\u001b[0;32m   <a href='file:///c%3A/Anaconda3/envs/tf-gpu/lib/site-packages/pandas/core/generic.py?line=3710'>3711</a>\u001b[0m \u001b[39mattribute to keep track of the parent dataframe (using in indexing\u001b[39;00m\n\u001b[1;32m   (...)\u001b[0m\n\u001b[0;32m   <a href='file:///c%3A/Anaconda3/envs/tf-gpu/lib/site-packages/pandas/core/generic.py?line=3713'>3714</a>\u001b[0m \u001b[39mSee the docstring of `take` for full explanation of the parameters.\u001b[39;00m\n\u001b[0;32m   <a href='file:///c%3A/Anaconda3/envs/tf-gpu/lib/site-packages/pandas/core/generic.py?line=3714'>3715</a>\u001b[0m \u001b[39m\"\"\"\u001b[39;00m\n\u001b[1;32m-> <a href='file:///c%3A/Anaconda3/envs/tf-gpu/lib/site-packages/pandas/core/generic.py?line=3715'>3716</a>\u001b[0m result \u001b[39m=\u001b[39m \u001b[39mself\u001b[39;49m\u001b[39m.\u001b[39;49mtake(indices\u001b[39m=\u001b[39;49mindices, axis\u001b[39m=\u001b[39;49maxis)\n\u001b[0;32m   <a href='file:///c%3A/Anaconda3/envs/tf-gpu/lib/site-packages/pandas/core/generic.py?line=3716'>3717</a>\u001b[0m \u001b[39m# Maybe set copy if we didn't actually change the index.\u001b[39;00m\n",
      "File \u001b[1;32mc:\\Anaconda3\\envs\\tf-gpu\\lib\\site-packages\\pandas\\core\\generic.py:3703\u001b[0m, in \u001b[0;36mNDFrame.take\u001b[1;34m(self, indices, axis, is_copy, **kwargs)\u001b[0m\n\u001b[0;32m   <a href='file:///c%3A/Anaconda3/envs/tf-gpu/lib/site-packages/pandas/core/generic.py?line=3700'>3701</a>\u001b[0m \u001b[39mself\u001b[39m\u001b[39m.\u001b[39m_consolidate_inplace()\n\u001b[1;32m-> <a href='file:///c%3A/Anaconda3/envs/tf-gpu/lib/site-packages/pandas/core/generic.py?line=3702'>3703</a>\u001b[0m new_data \u001b[39m=\u001b[39m \u001b[39mself\u001b[39;49m\u001b[39m.\u001b[39;49m_mgr\u001b[39m.\u001b[39;49mtake(\n\u001b[0;32m   <a href='file:///c%3A/Anaconda3/envs/tf-gpu/lib/site-packages/pandas/core/generic.py?line=3703'>3704</a>\u001b[0m     indices, axis\u001b[39m=\u001b[39;49m\u001b[39mself\u001b[39;49m\u001b[39m.\u001b[39;49m_get_block_manager_axis(axis), verify\u001b[39m=\u001b[39;49m\u001b[39mTrue\u001b[39;49;00m\n\u001b[0;32m   <a href='file:///c%3A/Anaconda3/envs/tf-gpu/lib/site-packages/pandas/core/generic.py?line=3704'>3705</a>\u001b[0m )\n\u001b[0;32m   <a href='file:///c%3A/Anaconda3/envs/tf-gpu/lib/site-packages/pandas/core/generic.py?line=3705'>3706</a>\u001b[0m \u001b[39mreturn\u001b[39;00m \u001b[39mself\u001b[39m\u001b[39m.\u001b[39m_constructor(new_data)\u001b[39m.\u001b[39m__finalize__(\u001b[39mself\u001b[39m, method\u001b[39m=\u001b[39m\u001b[39m\"\u001b[39m\u001b[39mtake\u001b[39m\u001b[39m\"\u001b[39m)\n",
      "File \u001b[1;32mc:\\Anaconda3\\envs\\tf-gpu\\lib\\site-packages\\pandas\\core\\internals\\managers.py:897\u001b[0m, in \u001b[0;36mBaseBlockManager.take\u001b[1;34m(self, indexer, axis, verify)\u001b[0m\n\u001b[0;32m    <a href='file:///c%3A/Anaconda3/envs/tf-gpu/lib/site-packages/pandas/core/internals/managers.py?line=895'>896</a>\u001b[0m n \u001b[39m=\u001b[39m \u001b[39mself\u001b[39m\u001b[39m.\u001b[39mshape[axis]\n\u001b[1;32m--> <a href='file:///c%3A/Anaconda3/envs/tf-gpu/lib/site-packages/pandas/core/internals/managers.py?line=896'>897</a>\u001b[0m indexer \u001b[39m=\u001b[39m maybe_convert_indices(indexer, n, verify\u001b[39m=\u001b[39;49mverify)\n\u001b[0;32m    <a href='file:///c%3A/Anaconda3/envs/tf-gpu/lib/site-packages/pandas/core/internals/managers.py?line=898'>899</a>\u001b[0m new_labels \u001b[39m=\u001b[39m \u001b[39mself\u001b[39m\u001b[39m.\u001b[39maxes[axis]\u001b[39m.\u001b[39mtake(indexer)\n",
      "File \u001b[1;32mc:\\Anaconda3\\envs\\tf-gpu\\lib\\site-packages\\pandas\\core\\indexers\\utils.py:292\u001b[0m, in \u001b[0;36mmaybe_convert_indices\u001b[1;34m(indices, n, verify)\u001b[0m\n\u001b[0;32m    <a href='file:///c%3A/Anaconda3/envs/tf-gpu/lib/site-packages/pandas/core/indexers/utils.py?line=290'>291</a>\u001b[0m     \u001b[39mif\u001b[39;00m mask\u001b[39m.\u001b[39many():\n\u001b[1;32m--> <a href='file:///c%3A/Anaconda3/envs/tf-gpu/lib/site-packages/pandas/core/indexers/utils.py?line=291'>292</a>\u001b[0m         \u001b[39mraise\u001b[39;00m \u001b[39mIndexError\u001b[39;00m(\u001b[39m\"\u001b[39m\u001b[39mindices are out-of-bounds\u001b[39m\u001b[39m\"\u001b[39m)\n\u001b[0;32m    <a href='file:///c%3A/Anaconda3/envs/tf-gpu/lib/site-packages/pandas/core/indexers/utils.py?line=292'>293</a>\u001b[0m \u001b[39mreturn\u001b[39;00m indices\n",
      "\u001b[1;31mIndexError\u001b[0m: indices are out-of-bounds",
      "\nThe above exception was the direct cause of the following exception:\n",
      "\u001b[1;31mIndexError\u001b[0m                                Traceback (most recent call last)",
      "\u001b[1;32mc:\\Users\\marco\\Documents\\Trabajo\\Academia\\curso_cisc_2022\\Notebooks\\D.- Conclusion.ipynb Cell 10'\u001b[0m in \u001b[0;36m<cell line: 3>\u001b[1;34m()\u001b[0m\n\u001b[0;32m      <a href='vscode-notebook-cell:/c%3A/Users/marco/Documents/Trabajo/Academia/curso_cisc_2022/Notebooks/D.-%20Conclusion.ipynb#ch0000042?line=7'>8</a>\u001b[0m \u001b[39mprint\u001b[39m(\u001b[39mlen\u001b[39m(train\u001b[39m.\u001b[39mindex))\n\u001b[0;32m      <a href='vscode-notebook-cell:/c%3A/Users/marco/Documents/Trabajo/Academia/curso_cisc_2022/Notebooks/D.-%20Conclusion.ipynb#ch0000042?line=8'>9</a>\u001b[0m train \u001b[39m=\u001b[39m train\u001b[39m.\u001b[39miloc[train_indices]\n\u001b[1;32m---> <a href='vscode-notebook-cell:/c%3A/Users/marco/Documents/Trabajo/Academia/curso_cisc_2022/Notebooks/D.-%20Conclusion.ipynb#ch0000042?line=9'>10</a>\u001b[0m val \u001b[39m=\u001b[39m train\u001b[39m.\u001b[39;49miloc[val_indices]\n\u001b[0;32m     <a href='vscode-notebook-cell:/c%3A/Users/marco/Documents/Trabajo/Academia/curso_cisc_2022/Notebooks/D.-%20Conclusion.ipynb#ch0000042?line=10'>11</a>\u001b[0m model \u001b[39m=\u001b[39m create_model()\n\u001b[0;32m     <a href='vscode-notebook-cell:/c%3A/Users/marco/Documents/Trabajo/Academia/curso_cisc_2022/Notebooks/D.-%20Conclusion.ipynb#ch0000042?line=11'>12</a>\u001b[0m train_datagen \u001b[39m=\u001b[39m tf\u001b[39m.\u001b[39mkeras\u001b[39m.\u001b[39mpreprocessing\u001b[39m.\u001b[39mimage\u001b[39m.\u001b[39mImageDataGenerator()\n",
      "File \u001b[1;32mc:\\Anaconda3\\envs\\tf-gpu\\lib\\site-packages\\pandas\\core\\indexing.py:967\u001b[0m, in \u001b[0;36m_LocationIndexer.__getitem__\u001b[1;34m(self, key)\u001b[0m\n\u001b[0;32m    <a href='file:///c%3A/Anaconda3/envs/tf-gpu/lib/site-packages/pandas/core/indexing.py?line=963'>964</a>\u001b[0m axis \u001b[39m=\u001b[39m \u001b[39mself\u001b[39m\u001b[39m.\u001b[39maxis \u001b[39mor\u001b[39;00m \u001b[39m0\u001b[39m\n\u001b[0;32m    <a href='file:///c%3A/Anaconda3/envs/tf-gpu/lib/site-packages/pandas/core/indexing.py?line=965'>966</a>\u001b[0m maybe_callable \u001b[39m=\u001b[39m com\u001b[39m.\u001b[39mapply_if_callable(key, \u001b[39mself\u001b[39m\u001b[39m.\u001b[39mobj)\n\u001b[1;32m--> <a href='file:///c%3A/Anaconda3/envs/tf-gpu/lib/site-packages/pandas/core/indexing.py?line=966'>967</a>\u001b[0m \u001b[39mreturn\u001b[39;00m \u001b[39mself\u001b[39;49m\u001b[39m.\u001b[39;49m_getitem_axis(maybe_callable, axis\u001b[39m=\u001b[39;49maxis)\n",
      "File \u001b[1;32mc:\\Anaconda3\\envs\\tf-gpu\\lib\\site-packages\\pandas\\core\\indexing.py:1511\u001b[0m, in \u001b[0;36m_iLocIndexer._getitem_axis\u001b[1;34m(self, key, axis)\u001b[0m\n\u001b[0;32m   <a href='file:///c%3A/Anaconda3/envs/tf-gpu/lib/site-packages/pandas/core/indexing.py?line=1508'>1509</a>\u001b[0m \u001b[39m# a list of integers\u001b[39;00m\n\u001b[0;32m   <a href='file:///c%3A/Anaconda3/envs/tf-gpu/lib/site-packages/pandas/core/indexing.py?line=1509'>1510</a>\u001b[0m \u001b[39melif\u001b[39;00m is_list_like_indexer(key):\n\u001b[1;32m-> <a href='file:///c%3A/Anaconda3/envs/tf-gpu/lib/site-packages/pandas/core/indexing.py?line=1510'>1511</a>\u001b[0m     \u001b[39mreturn\u001b[39;00m \u001b[39mself\u001b[39;49m\u001b[39m.\u001b[39;49m_get_list_axis(key, axis\u001b[39m=\u001b[39;49maxis)\n\u001b[0;32m   <a href='file:///c%3A/Anaconda3/envs/tf-gpu/lib/site-packages/pandas/core/indexing.py?line=1512'>1513</a>\u001b[0m \u001b[39m# a single integer\u001b[39;00m\n\u001b[0;32m   <a href='file:///c%3A/Anaconda3/envs/tf-gpu/lib/site-packages/pandas/core/indexing.py?line=1513'>1514</a>\u001b[0m \u001b[39melse\u001b[39;00m:\n\u001b[0;32m   <a href='file:///c%3A/Anaconda3/envs/tf-gpu/lib/site-packages/pandas/core/indexing.py?line=1514'>1515</a>\u001b[0m     key \u001b[39m=\u001b[39m item_from_zerodim(key)\n",
      "File \u001b[1;32mc:\\Anaconda3\\envs\\tf-gpu\\lib\\site-packages\\pandas\\core\\indexing.py:1485\u001b[0m, in \u001b[0;36m_iLocIndexer._get_list_axis\u001b[1;34m(self, key, axis)\u001b[0m\n\u001b[0;32m   <a href='file:///c%3A/Anaconda3/envs/tf-gpu/lib/site-packages/pandas/core/indexing.py?line=1481'>1482</a>\u001b[0m     \u001b[39mreturn\u001b[39;00m \u001b[39mself\u001b[39m\u001b[39m.\u001b[39mobj\u001b[39m.\u001b[39m_take_with_is_copy(key, axis\u001b[39m=\u001b[39maxis)\n\u001b[0;32m   <a href='file:///c%3A/Anaconda3/envs/tf-gpu/lib/site-packages/pandas/core/indexing.py?line=1482'>1483</a>\u001b[0m \u001b[39mexcept\u001b[39;00m \u001b[39mIndexError\u001b[39;00m \u001b[39mas\u001b[39;00m err:\n\u001b[0;32m   <a href='file:///c%3A/Anaconda3/envs/tf-gpu/lib/site-packages/pandas/core/indexing.py?line=1483'>1484</a>\u001b[0m     \u001b[39m# re-raise with different error message\u001b[39;00m\n\u001b[1;32m-> <a href='file:///c%3A/Anaconda3/envs/tf-gpu/lib/site-packages/pandas/core/indexing.py?line=1484'>1485</a>\u001b[0m     \u001b[39mraise\u001b[39;00m \u001b[39mIndexError\u001b[39;00m(\u001b[39m\"\u001b[39m\u001b[39mpositional indexers are out-of-bounds\u001b[39m\u001b[39m\"\u001b[39m) \u001b[39mfrom\u001b[39;00m \u001b[39merr\u001b[39;00m\n",
      "\u001b[1;31mIndexError\u001b[0m: positional indexers are out-of-bounds"
     ]
    }
   ],
   "source": [
    "skf = StratifiedKFold(n_splits=5, shuffle=True, random_state=SEED)\n",
    "\n",
    "for i, (train_indices, val_indices) in enumerate(skf.split(train, train[CLASS_COLUMN])):\n",
    "    print(f'Iniciando Fold: {i}')\n",
    "    print(f'Datos de entrenamiento: {len(train_indices)}')\n",
    "    print(f'Datos de validacion: {len(val_indices)}')\n",
    "    print('Dividiendo datos')\n",
    "    print(len(train.index))\n",
    "    train = train.iloc[train_indices]\n",
    "    val = train.iloc[val_indices]\n",
    "    model = create_model()\n",
    "    train_datagen = tf.keras.preprocessing.image.ImageDataGenerator()\n",
    "\n",
    "    val_datagen =tf.keras.preprocessing.image.ImageDataGenerator()\n",
    "\n",
    "    train_generator = train_datagen.flow_from_dataframe(\n",
    "                                            train,\n",
    "                                            None,\n",
    "                                            x_col='filename',\n",
    "                                            target_size=(IMG_WIDTH, IMG_HEIGHT),\n",
    "                                            y_col=CLASS_COLUMN,\n",
    "                                            batch_size=BATCH_SIZE,\n",
    "                                            seed=SEED,\n",
    "                                            class_mode='binary' if num_classes == 2 else 'categorical'\n",
    "                                            )\n",
    "\n",
    "    val_generator = val_datagen.flow_from_dataframe(\n",
    "                                            val,\n",
    "                                            None,\n",
    "                                            x_col='filename',\n",
    "                                            target_size=(IMG_WIDTH, IMG_HEIGHT),\n",
    "                                            y_col=CLASS_COLUMN,\n",
    "                                            batch_size=1,\n",
    "                                            seed=SEED,\n",
    "                                            class_mode='binary' if num_classes == 2 else 'categorical',\n",
    "                                            shuffle=False\n",
    "                                            )\n",
    "    \n",
    "    history = model.fit(\n",
    "        train_generator,\n",
    "        validation_data=val_generator,\n",
    "        callbacks=[PlotLossesKerasTF()],\n",
    "        epochs=EPOCHS,\n",
    "        steps_per_epoch=train_generator.n // train_generator.batch_size,\n",
    "        validation_steps=val_generator.n // val_generator.batch_size\n",
    "    )\n",
    "    \n",
    "    evaluations = model.evaluate(test_generator, verbose=0)\n",
    "\n",
    "    for evaluation, metric_name in zip(evaluations, model.metrics_names):\n",
    "        print(f\"{metric_name}: {evaluation}\")"
   ]
  },
  {
   "cell_type": "code",
   "execution_count": null,
   "metadata": {},
   "outputs": [],
   "source": [
    "raw_pred = model.predict(val_generator)"
   ]
  },
  {
   "cell_type": "code",
   "execution_count": null,
   "metadata": {},
   "outputs": [],
   "source": [
    "pred = np.argmax(raw_pred, axis=1)"
   ]
  },
  {
   "cell_type": "code",
   "execution_count": null,
   "metadata": {},
   "outputs": [],
   "source": [
    "i = 2\n",
    "utils.plot_softmax(i, raw_pred[i], val_generator.labels, val_generator.filenames, class_names)"
   ]
  },
  {
   "cell_type": "code",
   "execution_count": null,
   "metadata": {},
   "outputs": [],
   "source": [
    "df_pred = pd.DataFrame({\"Real\": val_generator.labels, \"Pred\": pred})\n",
    "df_pred = df_pred.replace(utils.map_7_classes)\n",
    "df_pred.head()"
   ]
  },
  {
   "cell_type": "code",
   "execution_count": null,
   "metadata": {},
   "outputs": [],
   "source": [
    "df_error = df_pred[df_pred[\"Real\"] != df_pred[\"Pred\"]]\n",
    "print(len(df_error.index))"
   ]
  },
  {
   "cell_type": "code",
   "execution_count": null,
   "metadata": {},
   "outputs": [],
   "source": [
    "df_error.groupby(\"Pred\").size()"
   ]
  },
  {
   "cell_type": "code",
   "execution_count": null,
   "metadata": {},
   "outputs": [],
   "source": [
    "cm = ConfusionMatrix(actual_vector=df_pred[\"Real\"].values, predict_vector=df_pred[\"Pred\"].values)\n",
    "print(cm)"
   ]
  },
  {
   "cell_type": "code",
   "execution_count": null,
   "metadata": {},
   "outputs": [],
   "source": [
    "plt.figure(figsize=(15,15))\n",
    "cm.plot(cmap=plt.cm.Blues, number_label=True);"
   ]
  },
  {
   "cell_type": "code",
   "execution_count": null,
   "metadata": {},
   "outputs": [],
   "source": [
    "plt.figure(figsize=(15,15))\n",
    "cm.plot(cmap=plt.cm.Blues, number_label=True, normalized=True);"
   ]
  },
  {
   "cell_type": "code",
   "execution_count": null,
   "metadata": {},
   "outputs": [],
   "source": [
    "utils.plot_roc_multiclass(df_pred, class_list = dataset[\"Class_cat_7\"].unique())"
   ]
  },
  {
   "cell_type": "code",
   "execution_count": null,
   "metadata": {},
   "outputs": [],
   "source": [
    "utils.plot_precision_recall_curve_multiclass(df_pred, class_list = dataset[\"Class_cat_7\"].unique())"
   ]
  }
 ],
 "metadata": {
  "interpreter": {
   "hash": "b7e5ea44b09d95c28f28df2c35d391ab262ed926916635a74851c0ef9fb596bf"
  },
  "kernelspec": {
   "display_name": "Python 3.9.7 ('tf-gpu')",
   "language": "python",
   "name": "python3"
  },
  "language_info": {
   "codemirror_mode": {
    "name": "ipython",
    "version": 3
   },
   "file_extension": ".py",
   "mimetype": "text/x-python",
   "name": "python",
   "nbconvert_exporter": "python",
   "pygments_lexer": "ipython3",
   "version": "3.9.7"
  },
  "orig_nbformat": 4
 },
 "nbformat": 4,
 "nbformat_minor": 2
}
