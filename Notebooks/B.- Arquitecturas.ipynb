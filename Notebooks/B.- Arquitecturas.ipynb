{
 "cells": [
  {
   "cell_type": "markdown",
   "metadata": {},
   "source": [
    "# Arquitecturas de redes convolucionales\n",
    "\n",
    "Es sumamente dificil y tedioso desarrollar arquitecturas para cada problema que se nos presente, como vimos anteriormente, algunas de estas arquitecturas pueden ser sumamente grandes y complejas\n",
    "\n",
    "<https://keras.io/api/applications/>"
   ]
  },
  {
   "cell_type": "code",
   "execution_count": null,
   "metadata": {},
   "outputs": [],
   "source": [
    "# from google.colab import drive\n",
    "# drive.mount('/content/drive')"
   ]
  },
  {
   "cell_type": "code",
   "execution_count": null,
   "metadata": {},
   "outputs": [],
   "source": [
    "# !pip install pycm\n",
    "# !pip install livelossplot"
   ]
  },
  {
   "cell_type": "code",
   "execution_count": null,
   "metadata": {},
   "outputs": [],
   "source": [
    "%matplotlib inline\n",
    "import sys\n",
    "import pathlib\n",
    "import pandas as pd\n",
    "import numpy as np\n",
    "import os\n",
    "\n",
    "import tensorflow as tf\n",
    "from sklearn.model_selection import train_test_split\n",
    "import matplotlib.pyplot as plt\n",
    "\n",
    "from livelossplot import PlotLossesKerasTF\n",
    "\n",
    "os.environ[\"CUDA_VISIBLE_DEVICES\"]=\"1\"\n",
    "\n",
    "SEED = 199510\n",
    "np.random.seed(SEED)\n",
    "tf.random.set_seed(SEED)\n",
    "\n",
    "ROOT_DIR = pathlib.Path().resolve().parent\n",
    "\n",
    "# Descomentar para correr en Google Colab usando Drive\n",
    "# ROOT_DIR = pathlib.Path(\"drive/MyDrive/curso_cisc_2022\")\n",
    "# sys.path.append(\"/content/drive/MyDrive/curso_cisc_2022/Notebooks\")\n",
    "\n",
    "DATA_DIR = ROOT_DIR / \"Data\" / \"smear2005\"\n",
    "print(ROOT_DIR)\n",
    "\n",
    "import utils"
   ]
  },
  {
   "cell_type": "code",
   "execution_count": null,
   "metadata": {},
   "outputs": [],
   "source": [
    "dataset = pd.read_csv(f\"{DATA_DIR}/dataset.csv\")\n",
    "CLASS_COLUMN = \"Class_cat_7\""
   ]
  },
  {
   "cell_type": "code",
   "execution_count": null,
   "metadata": {},
   "outputs": [],
   "source": [
    "class_names = dataset[CLASS_COLUMN].unique()\n",
    "num_classes = len(class_names)\n",
    "print(f\"Número de clases: {num_classes}\")\n",
    "print(f\"Clases: {class_names}\")"
   ]
  },
  {
   "cell_type": "code",
   "execution_count": null,
   "metadata": {},
   "outputs": [],
   "source": [
    "IMG_HEIGHT = 100\n",
    "IMG_WIDTH = 100\n",
    "IMG_SHAPE = (IMG_HEIGHT, IMG_WIDTH, 3)\n",
    "BATCH_SIZE = 256\n",
    "EPOCHS = 100\n",
    "LEARNING_RATE = 0.001\n",
    "OPT = tf.keras.optimizers.Adam(learning_rate=LEARNING_RATE)\n",
    "METRICS = [\n",
    "    \"accuracy\", \n",
    "    tf.keras.metrics.Precision(name=\"precision\"), \n",
    "    tf.keras.metrics.Recall(name=\"recall\")\n",
    "    ]\n",
    "LOSS = \"binary_crossentropy\" if num_classes == 2 else \"categorical_crossentropy\"\n",
    "OUTPUT_NEURONS = 1 if num_classes == 2 else num_classes\n",
    "OUTPUT_ACTIVATION = \"sigmoid\" if num_classes == 2 else \"softmax\"\n",
    "SPLIT = 0.2"
   ]
  },
  {
   "cell_type": "code",
   "execution_count": null,
   "metadata": {},
   "outputs": [],
   "source": [
    "train, val = train_test_split(dataset, test_size=SPLIT, random_state=SEED, stratify=dataset[CLASS_COLUMN])"
   ]
  },
  {
   "cell_type": "code",
   "execution_count": null,
   "metadata": {},
   "outputs": [],
   "source": [
    "train_datagen = tf.keras.preprocessing.image.ImageDataGenerator()\n",
    "\n",
    "val_datagen =tf.keras.preprocessing.image.ImageDataGenerator()\n",
    "\n",
    "train_generator = train_datagen.flow_from_dataframe(\n",
    "                                        train,\n",
    "                                        None,\n",
    "                                        x_col='filename',\n",
    "                                        target_size=(IMG_WIDTH, IMG_HEIGHT),\n",
    "                                        y_col=CLASS_COLUMN,\n",
    "                                        batch_size=BATCH_SIZE,\n",
    "                                        seed=SEED,\n",
    "                                        class_mode='binary' if num_classes == 2 else 'categorical'\n",
    "                                        )\n",
    "\n",
    "val_generator = val_datagen.flow_from_dataframe(\n",
    "                                        val,\n",
    "                                        None,\n",
    "                                        x_col='filename',\n",
    "                                        target_size=(IMG_WIDTH, IMG_HEIGHT),\n",
    "                                        y_col=CLASS_COLUMN,\n",
    "                                        batch_size=1,\n",
    "                                        seed=SEED,\n",
    "                                        class_mode='binary' if num_classes == 2 else 'categorical'\n",
    "                                        )"
   ]
  },
  {
   "cell_type": "code",
   "execution_count": null,
   "metadata": {},
   "outputs": [],
   "source": [
    "data_augmentation = tf.keras.Sequential(\n",
    "  [\n",
    "    tf.keras.layers.RandomFlip(input_shape=IMG_SHAPE),\n",
    "    tf.keras.layers.RandomRotation(0.3, fill_mode=\"constant\"),\n",
    "    tf.keras.layers.RandomZoom(0.2, fill_mode=\"constant\"),\n",
    "  ]\n",
    ")"
   ]
  },
  {
   "cell_type": "code",
   "execution_count": null,
   "metadata": {},
   "outputs": [],
   "source": [
    "plt.figure(figsize=(10,10))\n",
    "batch = train_generator.next()\n",
    "image_ = batch[0].astype('uint8')\n",
    "for i in range(9):\n",
    "  plt.subplot(3, 3, i + 1)\n",
    "  augmented = data_augmentation(image_[0])\n",
    "  plt.imshow(data_augmentation(image_[0]).numpy().astype('uint8'))\n",
    "  plt.axis(\"off\")\n",
    "plt.show()"
   ]
  },
  {
   "cell_type": "code",
   "execution_count": null,
   "metadata": {},
   "outputs": [],
   "source": [
    "base_model = tf.keras.applications.VGG16(weights=None, include_top=False, input_shape=IMG_SHAPE)\n",
    "preprocess_input = tf.keras.applications.vgg16.preprocess_input\n",
    "base_model.trainable = True"
   ]
  },
  {
   "cell_type": "code",
   "execution_count": null,
   "metadata": {},
   "outputs": [],
   "source": [
    "model = tf.keras.Sequential([\n",
    "  tf.keras.layers.Lambda(preprocess_input, input_shape=IMG_SHAPE),\n",
    "  data_augmentation,\n",
    "  base_model,\n",
    "  tf.keras.layers.Flatten(),\n",
    "  tf.keras.layers.Dense(128, activation='relu'),\n",
    "  tf.keras.layers.Dense(OUTPUT_NEURONS, activation=OUTPUT_ACTIVATION)\n",
    "])\n",
    "\n",
    "model.compile(optimizer=OPT, loss=LOSS, metrics=METRICS)"
   ]
  },
  {
   "cell_type": "code",
   "execution_count": null,
   "metadata": {},
   "outputs": [],
   "source": [
    "tf.keras.utils.plot_model(model, show_shapes=True, expand_nested=True, show_layer_names=True)"
   ]
  },
  {
   "cell_type": "code",
   "execution_count": null,
   "metadata": {},
   "outputs": [],
   "source": [
    "print(model.summary())"
   ]
  },
  {
   "cell_type": "code",
   "execution_count": null,
   "metadata": {},
   "outputs": [],
   "source": [
    "history = model.fit(\n",
    "  train_generator,\n",
    "  validation_data=val_generator,\n",
    "  callbacks=[PlotLossesKerasTF()],\n",
    "  epochs=EPOCHS,\n",
    "  steps_per_epoch=train_generator.n // train_generator.batch_size,\n",
    "  validation_steps=val_generator.n // val_generator.batch_size\n",
    ")"
   ]
  },
  {
   "cell_type": "code",
   "execution_count": null,
   "metadata": {},
   "outputs": [],
   "source": [
    "evaluations = model.evaluate(val_generator, verbose=0)\n",
    "\n",
    "for evaluation, metric_name in zip(evaluations, model.metrics_names):\n",
    "  print(f\"{metric_name}: {evaluation}\")"
   ]
  },
  {
   "cell_type": "code",
   "execution_count": null,
   "metadata": {},
   "outputs": [],
   "source": [
    "base_model = tf.keras.applications.VGG19(weights=None, include_top=False, input_shape=IMG_SHAPE)\n",
    "preprocess_input = tf.keras.applications.vgg19.preprocess_input\n",
    "base_model.trainable = True"
   ]
  },
  {
   "cell_type": "code",
   "execution_count": null,
   "metadata": {},
   "outputs": [],
   "source": [
    "model = tf.keras.Sequential([\n",
    "  tf.keras.layers.Lambda(preprocess_input, input_shape=IMG_SHAPE),\n",
    "  data_augmentation,\n",
    "  base_model,\n",
    "  tf.keras.layers.Flatten(),\n",
    "  tf.keras.layers.Dense(128, activation='relu'),\n",
    "  tf.keras.layers.Dense(OUTPUT_NEURONS, activation=OUTPUT_ACTIVATION)\n",
    "])\n",
    "\n",
    "model.compile(optimizer=OPT, loss=LOSS, metrics=METRICS)"
   ]
  },
  {
   "cell_type": "code",
   "execution_count": null,
   "metadata": {},
   "outputs": [],
   "source": [
    "tf.keras.utils.plot_model(model, show_shapes=True, expand_nested=True, show_layer_names=True)"
   ]
  },
  {
   "cell_type": "code",
   "execution_count": null,
   "metadata": {},
   "outputs": [],
   "source": [
    "print(model.summary())"
   ]
  },
  {
   "cell_type": "code",
   "execution_count": null,
   "metadata": {},
   "outputs": [],
   "source": [
    "history = model.fit(\n",
    "  train_generator,\n",
    "  validation_data=val_generator,\n",
    "  callbacks=[PlotLossesKerasTF()],\n",
    "  epochs=EPOCHS,\n",
    "  steps_per_epoch=train_generator.n // train_generator.batch_size,\n",
    "  validation_steps=val_generator.n // val_generator.batch_size\n",
    ")"
   ]
  },
  {
   "cell_type": "code",
   "execution_count": null,
   "metadata": {},
   "outputs": [],
   "source": [
    "evaluations = model.evaluate(val_generator, verbose=0)\n",
    "\n",
    "for evaluation, metric_name in zip(evaluations, model.metrics_names):\n",
    "  print(f\"{metric_name}: {evaluation}\")"
   ]
  },
  {
   "cell_type": "code",
   "execution_count": null,
   "metadata": {},
   "outputs": [],
   "source": [
    "base_model = tf.keras.applications.resnet.ResNet50(weights=None, include_top=False, input_shape=IMG_SHAPE)\n",
    "preprocess_input = tf.keras.applications.resnet.preprocess_input\n",
    "base_model.trainable = True"
   ]
  },
  {
   "cell_type": "code",
   "execution_count": null,
   "metadata": {},
   "outputs": [],
   "source": [
    "model = tf.keras.Sequential([\n",
    "  tf.keras.layers.Lambda(preprocess_input, input_shape=IMG_SHAPE),\n",
    "  data_augmentation,\n",
    "  base_model,\n",
    "  tf.keras.layers.Flatten(),\n",
    "  tf.keras.layers.Dense(128, activation='relu'),\n",
    "  tf.keras.layers.Dense(OUTPUT_NEURONS, activation=OUTPUT_ACTIVATION)\n",
    "])\n",
    "\n",
    "model.compile(optimizer=OPT, loss=LOSS, metrics=METRICS)"
   ]
  },
  {
   "cell_type": "code",
   "execution_count": null,
   "metadata": {},
   "outputs": [],
   "source": [
    "tf.keras.utils.plot_model(model, show_shapes=True, expand_nested=True, show_layer_names=True)"
   ]
  },
  {
   "cell_type": "code",
   "execution_count": null,
   "metadata": {},
   "outputs": [],
   "source": [
    "print(model.summary())"
   ]
  },
  {
   "cell_type": "code",
   "execution_count": null,
   "metadata": {},
   "outputs": [],
   "source": [
    "history = model.fit(\n",
    "  train_generator,\n",
    "  validation_data=val_generator,\n",
    "  callbacks=[PlotLossesKerasTF()],\n",
    "  epochs=EPOCHS,\n",
    "  steps_per_epoch=train_generator.n // train_generator.batch_size,\n",
    "  validation_steps=val_generator.n // val_generator.batch_size\n",
    ")"
   ]
  },
  {
   "cell_type": "code",
   "execution_count": null,
   "metadata": {},
   "outputs": [],
   "source": [
    "evaluations = model.evaluate(val_generator, verbose=0)\n",
    "\n",
    "for evaluation, metric_name in zip(evaluations, model.metrics_names):\n",
    "  print(f\"{metric_name}: {evaluation}\")"
   ]
  }
 ],
 "metadata": {
  "interpreter": {
   "hash": "b7e5ea44b09d95c28f28df2c35d391ab262ed926916635a74851c0ef9fb596bf"
  },
  "kernelspec": {
   "display_name": "Python 3.9.7 ('tf-gpu')",
   "language": "python",
   "name": "python3"
  },
  "language_info": {
   "codemirror_mode": {
    "name": "ipython",
    "version": 3
   },
   "file_extension": ".py",
   "mimetype": "text/x-python",
   "name": "python",
   "nbconvert_exporter": "python",
   "pygments_lexer": "ipython3",
   "version": "3.9.7"
  },
  "orig_nbformat": 4
 },
 "nbformat": 4,
 "nbformat_minor": 2
}
