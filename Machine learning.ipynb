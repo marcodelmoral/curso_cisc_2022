{
 "cells": [
  {
   "cell_type": "code",
   "execution_count": 3,
   "metadata": {},
   "outputs": [],
   "source": [
    "%matplotlib inline\n",
    "import pandas as pd\n",
    "import numpy as np\n",
    "import matplotlib.pyplot as plt\n",
    "from sklearn.model_selection import train_test_split\n",
    "from sklearn.model_selection import cross_val_score\n",
    "from sklearn.model_selection import StratifiedKFold, KFold\n",
    "from sklearn.linear_model import LogisticRegression\n",
    "from sklearn.tree import DecisionTreeClassifier\n",
    "from sklearn.neighbors import KNeighborsClassifier\n",
    "from sklearn.discriminant_analysis import LinearDiscriminantAnalysis\n",
    "from sklearn.neural_network import MLPClassifier\n",
    "from sklearn.naive_bayes import GaussianNB\n",
    "from sklearn.svm import SVC\n",
    "from utils import plot_kfold_subplot\n",
    "from pycm import ConfusionMatrix\n",
    "\n",
    "plt.rcParams.update({'figure.figsize': (15,15)})\n",
    "SEED = 199510\n",
    "np.random.seed(SEED)\n",
    "\n",
    "map_7_classes = {\n",
    "    0: 'normal_superficiel',\n",
    "    1: 'normal_intermediate',\n",
    "    2: 'normal_columnar',\n",
    "    3: 'light_dysplastic',\n",
    "    4: 'moderate_dysplastic',\n",
    "    5: 'severe_dysplastic',\n",
    "    6: 'carcinoma_in_situ'\n",
    "}\n",
    "\n",
    "map_2_classes = {\n",
    "    0: 'normal',\n",
    "    1: 'anormal'\n",
    "}\n"
   ]
  },
  {
   "cell_type": "code",
   "execution_count": null,
   "metadata": {},
   "outputs": [],
   "source": [
    "df = pd.read_csv('smear2005/dataset.csv')\n",
    "dataset = df.drop([\"Class\", \"ID\", \"Class_cat_7\", \"Class_num_7\", \"Class_cat_2\", \"Class_num_2\"], axis=1)"
   ]
  },
  {
   "cell_type": "code",
   "execution_count": null,
   "metadata": {},
   "outputs": [],
   "source": [
    "KFOLDS = 5\n",
    "\n",
    "df_kfold = df.sort_values(by=[f\"Class_num_7\"])\n",
    "\n",
    "kf = KFold(n_splits=KFOLDS)\n",
    "\n",
    "skf = StratifiedKFold(n_splits=KFOLDS)\n",
    "\n",
    "plot_kfold_subplot(\n",
    "    kf,\n",
    "    skf,\n",
    "    df_kfold[\"ID\"],\n",
    "    df_kfold[\"Class_cat_7\"],\n",
    "    n_splits=KFOLDS,\n",
    "    lw=20,\n",
    "    figsize=(15, 10),\n",
    ")\n"
   ]
  },
  {
   "cell_type": "code",
   "execution_count": null,
   "metadata": {},
   "outputs": [],
   "source": [
    "X = dataset.values\n",
    "y = df[\"Class_cat_2\"].values\n",
    "X_train, X_validation, Y_train, Y_validation = train_test_split(X, y, test_size=0.20, random_state=SEED, stratify=y)"
   ]
  },
  {
   "cell_type": "code",
   "execution_count": null,
   "metadata": {},
   "outputs": [],
   "source": [
    "models = []\n",
    "models.append(('LR', LogisticRegression(solver='liblinear', multi_class='ovr')))\n",
    "models.append(('LDA', LinearDiscriminantAnalysis()))\n",
    "models.append(('KNN', KNeighborsClassifier()))\n",
    "models.append(('CART', DecisionTreeClassifier()))\n",
    "models.append(('NB', GaussianNB()))\n",
    "models.append(('SVM', SVC(gamma='auto')))\n",
    "models.append(('MLP1', MLPClassifier()))\n",
    "models.append(('MLP2', MLPClassifier(hidden_layer_sizes=(100,100))))\n",
    "# evaluate each model in turn\n",
    "results = []\n",
    "names = []\n",
    "for name, model in models:\n",
    "\tkfold = StratifiedKFold(n_splits=10, random_state=SEED, shuffle=True)\n",
    "\tcv_results = cross_val_score(model, X_train, Y_train, cv=kfold, scoring='accuracy')\n",
    "\tresults.append(cv_results)\n",
    "\tnames.append(name)\n",
    "\tprint(f\"{name}: {cv_results.mean()} +/- ({cv_results.std()})\")\n",
    "\t"
   ]
  },
  {
   "cell_type": "code",
   "execution_count": null,
   "metadata": {},
   "outputs": [],
   "source": [
    "plt.figure(figsize=(15,10))\n",
    "plt.boxplot(results, labels=names)\n",
    "plt.title('Comparativa de algoritmos')\n",
    "plt.show()"
   ]
  },
  {
   "cell_type": "code",
   "execution_count": null,
   "metadata": {},
   "outputs": [],
   "source": [
    "model = LinearDiscriminantAnalysis()\n",
    "model.fit(X_train, Y_train)\n",
    "predictions = model.predict(X_validation)"
   ]
  },
  {
   "cell_type": "code",
   "execution_count": null,
   "metadata": {},
   "outputs": [],
   "source": [
    "df_pred = pd.DataFrame({\"Real\": Y_validation, \"Pred\": predictions})\n",
    "df_pred = df_pred.replace(map_2_classes)\n",
    "df_error = df_pred[df_pred[\"Real\"] != df_pred[\"Pred\"]]\n",
    "print(len(df_error.index))"
   ]
  },
  {
   "cell_type": "code",
   "execution_count": null,
   "metadata": {},
   "outputs": [],
   "source": [
    "df_error.groupby(\"Pred\").size()"
   ]
  },
  {
   "cell_type": "code",
   "execution_count": null,
   "metadata": {},
   "outputs": [],
   "source": [
    "cm = ConfusionMatrix(actual_vector=Y_validation, predict_vector=predictions)\n",
    "print(cm)"
   ]
  },
  {
   "cell_type": "code",
   "execution_count": null,
   "metadata": {},
   "outputs": [],
   "source": [
    "cm.plot(number_label=True);"
   ]
  },
  {
   "cell_type": "code",
   "execution_count": null,
   "metadata": {},
   "outputs": [],
   "source": [
    "cm.plot(number_label=True, normalized=True);"
   ]
  },
  {
   "cell_type": "code",
   "execution_count": null,
   "metadata": {},
   "outputs": [],
   "source": [
    "X = dataset.values\n",
    "y = df[\"Class_cat_7\"].values\n",
    "X_train, X_validation, Y_train, Y_validation = train_test_split(X, y, test_size=0.20, random_state=1, stratify=y)"
   ]
  },
  {
   "cell_type": "code",
   "execution_count": null,
   "metadata": {},
   "outputs": [],
   "source": [
    "models = []\n",
    "models.append(('LR', LogisticRegression(solver='liblinear', multi_class='ovr')))\n",
    "models.append(('LDA', LinearDiscriminantAnalysis()))\n",
    "models.append(('KNN', KNeighborsClassifier()))\n",
    "models.append(('CART', DecisionTreeClassifier()))\n",
    "models.append(('NB', GaussianNB()))\n",
    "models.append(('SVM', SVC(gamma='auto')))\n",
    "models.append(('MLP1', MLPClassifier()))\n",
    "models.append(('MLP2', MLPClassifier(hidden_layer_sizes=(100,100))))\n",
    "# evaluate each model in turn\n",
    "results = []\n",
    "names = []\n",
    "for name, model in models:\n",
    "\tkfold = StratifiedKFold(n_splits=10, random_state=SEED, shuffle=True)\n",
    "\tcv_results = cross_val_score(model, X_train, Y_train, cv=kfold, scoring='accuracy')\n",
    "\tresults.append(cv_results)\n",
    "\tnames.append(name)\n",
    "\tprint(f\"{name}: {cv_results.mean()} +/- ({cv_results.std()})\")\n",
    "\t"
   ]
  },
  {
   "cell_type": "code",
   "execution_count": null,
   "metadata": {},
   "outputs": [],
   "source": [
    "plt.figure(figsize=(15,10))\n",
    "plt.boxplot(results, labels=names)\n",
    "plt.title('Comparativa de algoritmos')\n",
    "plt.show()"
   ]
  },
  {
   "cell_type": "code",
   "execution_count": null,
   "metadata": {},
   "outputs": [],
   "source": [
    "model = LinearDiscriminantAnalysis()\n",
    "model.fit(X_train, Y_train)\n",
    "predictions = model.predict(X_validation)"
   ]
  },
  {
   "cell_type": "code",
   "execution_count": null,
   "metadata": {},
   "outputs": [],
   "source": [
    "df_pred = pd.DataFrame({\"Real\": Y_validation, \"Pred\": predictions})\n",
    "df_pred = df_pred.replace(map_2_classes)\n",
    "df_error = df_pred[df_pred[\"Real\"] != df_pred[\"Pred\"]]\n",
    "print(len(df_error.index))"
   ]
  },
  {
   "cell_type": "code",
   "execution_count": null,
   "metadata": {},
   "outputs": [],
   "source": [
    "df_error.groupby(\"Pred\").size()"
   ]
  },
  {
   "cell_type": "code",
   "execution_count": null,
   "metadata": {},
   "outputs": [],
   "source": [
    "cm = ConfusionMatrix(actual_vector=Y_validation, predict_vector=predictions)\n",
    "print(cm)"
   ]
  },
  {
   "cell_type": "code",
   "execution_count": null,
   "metadata": {},
   "outputs": [],
   "source": [
    "cm.plot(number_label=True);"
   ]
  },
  {
   "cell_type": "code",
   "execution_count": null,
   "metadata": {},
   "outputs": [],
   "source": [
    "cm.plot(number_label=True, normalized=True);"
   ]
  }
 ],
 "metadata": {
  "interpreter": {
   "hash": "81a3580d9119b5a6c386c26f975d9316f07a8b79ce368947d33d8f384f33fbaa"
  },
  "kernelspec": {
   "display_name": "Python 3.9.7 ('tf-gpu')",
   "language": "python",
   "name": "python3"
  },
  "language_info": {
   "codemirror_mode": {
    "name": "ipython",
    "version": 3
   },
   "file_extension": ".py",
   "mimetype": "text/x-python",
   "name": "python",
   "nbconvert_exporter": "python",
   "pygments_lexer": "ipython3",
   "version": "3.9.7"
  },
  "orig_nbformat": 4
 },
 "nbformat": 4,
 "nbformat_minor": 2
}
